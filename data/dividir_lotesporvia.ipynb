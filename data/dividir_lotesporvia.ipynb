{
 "cells": [
  {
   "cell_type": "code",
   "execution_count": 1,
   "metadata": {},
   "outputs": [],
   "source": [
    "import geopandas as gpd\n",
    "import numpy as np"
   ]
  },
  {
   "cell_type": "code",
   "execution_count": 2,
   "metadata": {},
   "outputs": [],
   "source": [
    "gdf = gpd.read_file('lotes.geojson')\n"
   ]
  },
  {
   "cell_type": "code",
   "execution_count": 3,
   "metadata": {},
   "outputs": [
    {
     "name": "stdout",
     "output_type": "stream",
     "text": [
      "<class 'geopandas.geodataframe.GeoDataFrame'>\n",
      "Int64Index: 52687 entries, 0 to 53163\n",
      "Data columns (total 5 columns):\n",
      " #   Column    Non-Null Count  Dtype   \n",
      "---  ------    --------------  -----   \n",
      " 0   nomevia   52687 non-null  object  \n",
      " 1   numero    52687 non-null  float64 \n",
      " 2   viacod    52687 non-null  int64   \n",
      " 3   inscrlig  52687 non-null  object  \n",
      " 4   geometry  52687 non-null  geometry\n",
      "dtypes: float64(1), geometry(1), int64(1), object(2)\n",
      "memory usage: 2.4+ MB\n"
     ]
    }
   ],
   "source": [
    "gdf.dropna(inplace=True)\n",
    "gdf['viacod'] = gdf['viacod'].astype(int)\n",
    "gdf.info()\n"
   ]
  },
  {
   "cell_type": "code",
   "execution_count": 4,
   "metadata": {},
   "outputs": [
    {
     "data": {
      "text/html": [
       "<div>\n",
       "<style scoped>\n",
       "    .dataframe tbody tr th:only-of-type {\n",
       "        vertical-align: middle;\n",
       "    }\n",
       "\n",
       "    .dataframe tbody tr th {\n",
       "        vertical-align: top;\n",
       "    }\n",
       "\n",
       "    .dataframe thead th {\n",
       "        text-align: right;\n",
       "    }\n",
       "</style>\n",
       "<table border=\"1\" class=\"dataframe\">\n",
       "  <thead>\n",
       "    <tr style=\"text-align: right;\">\n",
       "      <th></th>\n",
       "      <th>nomevia</th>\n",
       "      <th>numero</th>\n",
       "      <th>viacod</th>\n",
       "      <th>inscrlig</th>\n",
       "      <th>geometry</th>\n",
       "    </tr>\n",
       "  </thead>\n",
       "  <tbody>\n",
       "    <tr>\n",
       "      <th>0</th>\n",
       "      <td>R.Ver.Hor�cio Ramos Gonzaga</td>\n",
       "      <td>840.0</td>\n",
       "      <td>1099</td>\n",
       "      <td>2031140010</td>\n",
       "      <td>MULTIPOLYGON (((-48.70550 -26.88080, -48.70560...</td>\n",
       "    </tr>\n",
       "    <tr>\n",
       "      <th>1</th>\n",
       "      <td>R.Ab�lio Corr�a Mello</td>\n",
       "      <td>482.0</td>\n",
       "      <td>1104</td>\n",
       "      <td>2031930673</td>\n",
       "      <td>MULTIPOLYGON (((-48.70300 -26.88370, -48.70300...</td>\n",
       "    </tr>\n",
       "    <tr>\n",
       "      <th>2</th>\n",
       "      <td>R.Ab�lio Corr�a Mello</td>\n",
       "      <td>378.0</td>\n",
       "      <td>1104</td>\n",
       "      <td>2031930565</td>\n",
       "      <td>MULTIPOLYGON (((-48.70310 -26.88470, -48.70310...</td>\n",
       "    </tr>\n",
       "    <tr>\n",
       "      <th>3</th>\n",
       "      <td>R.Ot�lio Dals�quio</td>\n",
       "      <td>308.0</td>\n",
       "      <td>1281</td>\n",
       "      <td>2030640450</td>\n",
       "      <td>MULTIPOLYGON (((-48.72310 -26.88050, -48.72310...</td>\n",
       "    </tr>\n",
       "    <tr>\n",
       "      <th>4</th>\n",
       "      <td>R.Ot�lio Dals�quio</td>\n",
       "      <td>184.0</td>\n",
       "      <td>1281</td>\n",
       "      <td>2030640360</td>\n",
       "      <td>MULTIPOLYGON (((-48.72310 -26.87930, -48.72310...</td>\n",
       "    </tr>\n",
       "  </tbody>\n",
       "</table>\n",
       "</div>"
      ],
      "text/plain": [
       "                       nomevia  numero  viacod    inscrlig  \\\n",
       "0  R.Ver.Hor�cio Ramos Gonzaga   840.0    1099  2031140010   \n",
       "1        R.Ab�lio Corr�a Mello   482.0    1104  2031930673   \n",
       "2        R.Ab�lio Corr�a Mello   378.0    1104  2031930565   \n",
       "3           R.Ot�lio Dals�quio   308.0    1281  2030640450   \n",
       "4           R.Ot�lio Dals�quio   184.0    1281  2030640360   \n",
       "\n",
       "                                            geometry  \n",
       "0  MULTIPOLYGON (((-48.70550 -26.88080, -48.70560...  \n",
       "1  MULTIPOLYGON (((-48.70300 -26.88370, -48.70300...  \n",
       "2  MULTIPOLYGON (((-48.70310 -26.88470, -48.70310...  \n",
       "3  MULTIPOLYGON (((-48.72310 -26.88050, -48.72310...  \n",
       "4  MULTIPOLYGON (((-48.72310 -26.87930, -48.72310...  "
      ]
     },
     "execution_count": 4,
     "metadata": {},
     "output_type": "execute_result"
    }
   ],
   "source": [
    "gdf.head()"
   ]
  },
  {
   "cell_type": "code",
   "execution_count": 5,
   "metadata": {},
   "outputs": [
    {
     "data": {
      "text/html": [
       "<div>\n",
       "<style scoped>\n",
       "    .dataframe tbody tr th:only-of-type {\n",
       "        vertical-align: middle;\n",
       "    }\n",
       "\n",
       "    .dataframe tbody tr th {\n",
       "        vertical-align: top;\n",
       "    }\n",
       "\n",
       "    .dataframe thead th {\n",
       "        text-align: right;\n",
       "    }\n",
       "</style>\n",
       "<table border=\"1\" class=\"dataframe\">\n",
       "  <thead>\n",
       "    <tr style=\"text-align: right;\">\n",
       "      <th></th>\n",
       "      <th>viacod</th>\n",
       "      <th>inscrlig</th>\n",
       "      <th>numero</th>\n",
       "    </tr>\n",
       "  </thead>\n",
       "  <tbody>\n",
       "    <tr>\n",
       "      <th>0</th>\n",
       "      <td>1099</td>\n",
       "      <td>2031140010</td>\n",
       "      <td>840.0</td>\n",
       "    </tr>\n",
       "    <tr>\n",
       "      <th>1</th>\n",
       "      <td>1104</td>\n",
       "      <td>2031930673</td>\n",
       "      <td>482.0</td>\n",
       "    </tr>\n",
       "    <tr>\n",
       "      <th>2</th>\n",
       "      <td>1104</td>\n",
       "      <td>2031930565</td>\n",
       "      <td>378.0</td>\n",
       "    </tr>\n",
       "    <tr>\n",
       "      <th>3</th>\n",
       "      <td>1281</td>\n",
       "      <td>2030640450</td>\n",
       "      <td>308.0</td>\n",
       "    </tr>\n",
       "    <tr>\n",
       "      <th>4</th>\n",
       "      <td>1281</td>\n",
       "      <td>2030640360</td>\n",
       "      <td>184.0</td>\n",
       "    </tr>\n",
       "    <tr>\n",
       "      <th>...</th>\n",
       "      <td>...</td>\n",
       "      <td>...</td>\n",
       "      <td>...</td>\n",
       "    </tr>\n",
       "    <tr>\n",
       "      <th>52580</th>\n",
       "      <td>784</td>\n",
       "      <td>2140760033</td>\n",
       "      <td>95.0</td>\n",
       "    </tr>\n",
       "    <tr>\n",
       "      <th>52582</th>\n",
       "      <td>803</td>\n",
       "      <td>2140760200</td>\n",
       "      <td>32.0</td>\n",
       "    </tr>\n",
       "    <tr>\n",
       "      <th>52585</th>\n",
       "      <td>803</td>\n",
       "      <td>2140760192</td>\n",
       "      <td>60.0</td>\n",
       "    </tr>\n",
       "    <tr>\n",
       "      <th>52886</th>\n",
       "      <td>363</td>\n",
       "      <td>2010470190</td>\n",
       "      <td>30.0</td>\n",
       "    </tr>\n",
       "    <tr>\n",
       "      <th>53114</th>\n",
       "      <td>177</td>\n",
       "      <td>2020510190</td>\n",
       "      <td>40.0</td>\n",
       "    </tr>\n",
       "  </tbody>\n",
       "</table>\n",
       "<p>6690 rows × 3 columns</p>\n",
       "</div>"
      ],
      "text/plain": [
       "       viacod    inscrlig  numero\n",
       "0        1099  2031140010   840.0\n",
       "1        1104  2031930673   482.0\n",
       "2        1104  2031930565   378.0\n",
       "3        1281  2030640450   308.0\n",
       "4        1281  2030640360   184.0\n",
       "...       ...         ...     ...\n",
       "52580     784  2140760033    95.0\n",
       "52582     803  2140760200    32.0\n",
       "52585     803  2140760192    60.0\n",
       "52886     363  2010470190    30.0\n",
       "53114     177  2020510190    40.0\n",
       "\n",
       "[6690 rows x 3 columns]"
      ]
     },
     "execution_count": 5,
     "metadata": {},
     "output_type": "execute_result"
    }
   ],
   "source": [
    "lotespvia = gdf[['viacod', 'inscrlig', 'numero']].groupby('viacod')\n",
    "lotespvia.head()\n"
   ]
  },
  {
   "cell_type": "code",
   "execution_count": 6,
   "metadata": {},
   "outputs": [],
   "source": [
    "for group_name, df_group in lotespvia:\n",
    "    df_group.to_json(\n",
    "        f'lotesporvia/{group_name}.json', orient='records')\n"
   ]
  },
  {
   "cell_type": "code",
   "execution_count": 7,
   "metadata": {},
   "outputs": [],
   "source": [
    "gdf['setor'] = gdf['inscrlig'].str[:3]\n"
   ]
  }
 ],
 "metadata": {
  "interpreter": {
   "hash": "c6e4e9f98eb68ad3b7c296f83d20e6de614cb42e90992a65aa266555a3137d0d"
  },
  "kernelspec": {
   "display_name": "Python 3.9.7 64-bit ('base': conda)",
   "language": "python",
   "name": "python3"
  },
  "language_info": {
   "codemirror_mode": {
    "name": "ipython",
    "version": 3
   },
   "file_extension": ".py",
   "mimetype": "text/x-python",
   "name": "python",
   "nbconvert_exporter": "python",
   "pygments_lexer": "ipython3",
   "version": "3.9.7"
  },
  "orig_nbformat": 4
 },
 "nbformat": 4,
 "nbformat_minor": 2
}
